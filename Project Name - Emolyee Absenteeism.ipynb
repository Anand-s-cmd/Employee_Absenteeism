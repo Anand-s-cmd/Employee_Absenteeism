{
 "cells": [
  {
   "cell_type": "markdown",
   "metadata": {},
   "source": [
    "# Project Name - Employee Absenteeism"
   ]
  },
  {
   "cell_type": "code",
   "execution_count": 1,
   "metadata": {},
   "outputs": [
    {
     "name": "stderr",
     "output_type": "stream",
     "text": [
      "Using TensorFlow backend.\n"
     ]
    }
   ],
   "source": [
    "# IMPORTING ALL THE LIBRARY\n",
    "import os\n",
    "import random\n",
    "import pandas as pd\n",
    "import numpy as np\n",
    "import matplotlib.pyplot as plt\n",
    "import seaborn as sns\n",
    "from sklearn.metrics import mean_absolute_error\n",
    "from sklearn.metrics import mean_squared_error\n",
    "from sklearn.metrics import r2_score\n",
    "from fancyimpute import KNN, NuclearNormMinimization, SoftImpute, BiScaler"
   ]
  },
  {
   "cell_type": "code",
   "execution_count": 2,
   "metadata": {},
   "outputs": [],
   "source": [
    "#Importing the data\n",
    "os.chdir('D:/Data Science/EDWISOR/2_PORTFOLIO/project 1')\n",
    "data = pd.read_excel('Absenteeism_at_work_Project.xls', sheet_name= 'Absenteeism_at_work' ,header=0,\n",
    "                     na_values= ['',' ','NA','na','Na','N/A','N/a','n/a'])\n",
    "####################################################################################################################\n",
    "#Defining feature as categorical\n",
    "Categorical_col = ['Reason for absence', 'Month of absence', 'Day of the week',\n",
    "       'Seasons', 'Disciplinary failure', 'Education', 'Social drinker',\n",
    "       'Social smoker']\n",
    "Non_Categorical_col = [i for i in data.columns if i not in Categorical_col]\n",
    "for i in data.columns:\n",
    "    if i in Categorical_col: data[i] = pd.Categorical(data[i])\n"
   ]
  },
  {
   "cell_type": "markdown",
   "metadata": {},
   "source": [
    "### 1. Applying ML but removing all the missing value of an data"
   ]
  },
  {
   "cell_type": "code",
   "execution_count": 3,
   "metadata": {},
   "outputs": [],
   "source": [
    "# Self Defined function\n",
    "####################################################################################################################\n",
    "# Return the percentage of missing data in the original dataset\n",
    "def PerOfMissing(d1,d2):# d1--data by droping the NAN value d2--Original data\n",
    "    percent_of_missing_data = round( 100 - ((len(d1)/len(d2))*100), 2)\n",
    "    percent_of_missing_data = str(percent_of_missing_data) + '% of data has Missing value'\n",
    "    return percent_of_missing_data\n",
    "####################################################################################################################\n",
    "# Return MAE, MRSE, R², Adjusted R²\n",
    "def reg_acc(y_true, y_pre):\n",
    "    from math import sqrt\n",
    "    from sklearn.metrics import mean_absolute_error\n",
    "    from sklearn.metrics import mean_squared_error\n",
    "    from sklearn.metrics import r2_score\n",
    "    print (\"MSE of data: \", mean_squared_error(y_true,y_pre))\n",
    "    print (\"***RMSE of data: \", sqrt(mean_squared_error(y_true,y_pre)),'***')\n",
    "    print ('Other Parameters:')\n",
    "    print (\"R² : \", r2_score(y_true,y_pre))\n",
    "    print ('MAE:',mean_absolute_error(y_true,y_pre))"
   ]
  },
  {
   "cell_type": "code",
   "execution_count": 4,
   "metadata": {},
   "outputs": [
    {
     "name": "stdout",
     "output_type": "stream",
     "text": [
      "13.65% of data has Missing value\n"
     ]
    }
   ],
   "source": [
    "# droping all the NAN value from the data and saving the data in data_without_NAN\n",
    "data_without_NAN = data.dropna()\n",
    "print (PerOfMissing(data_without_NAN,data))"
   ]
  },
  {
   "cell_type": "markdown",
   "metadata": {},
   "source": [
    "#### Model Applied by removing the missing value and preprocessing  the data"
   ]
  },
  {
   "cell_type": "code",
   "execution_count": 5,
   "metadata": {},
   "outputs": [
    {
     "name": "stdout",
     "output_type": "stream",
     "text": [
      "#####____MODEL_CHECK____#########\n",
      "KNN model\n",
      "MSE of data:  66.68781887755101\n",
      "***RMSE of data:  8.16626100963905 ***\n",
      "Other Parameters:\n",
      "R² :  -0.11571613071126441\n",
      "MAE: 5.046875\n",
      "###########\n",
      "###########\n",
      "Decision Tree\n",
      "MSE of data:  736.7879774305555\n",
      "***RMSE of data:  27.143838664244885 ***\n",
      "Other Parameters:\n",
      "R² :  0.04957067331946796\n",
      "MAE: 10.108072916666668\n",
      "###########\n",
      "###########\n",
      "Random Forest\n",
      "MSE of data:  149.56804135742186\n",
      "***RMSE of data:  12.229801362140837 ***\n",
      "Other Parameters:\n",
      "R² :  0.028691006943876052\n",
      "MAE: 6.293561197916667\n",
      "###########\n",
      "###########\n",
      "MSE of data:  43.5766653210526\n",
      "***RMSE of data:  6.601262403590135 ***\n",
      "Other Parameters:\n",
      "R² :  -0.2416276176800649\n",
      "MAE: 5.016390603178143\n",
      "Linear Regression\n",
      "Intercept : 23.39943367103103\n",
      "Coefficient\n",
      "ID --> -0.17634088405346032\n",
      "Reason for absence --> -0.5507704011683515\n",
      "Month of absence --> 0.06829573735259103\n",
      "Day of the week --> -0.7244787660593269\n",
      "Seasons --> -0.1945388458495434\n",
      "Transportation expense --> 1.6727617638601746\n",
      "Distance from Residence to Work --> -8.571132077428267\n",
      "Service time --> 3.077904116914585\n",
      "Age --> 0.2057680149159055\n",
      "Work load Average/day  --> -1.4372215321393904\n",
      "Hit target --> 2.6159532548163047\n",
      "Disciplinary failure --> -15.409096698609082\n",
      "Education --> -2.206077256620801\n",
      "Son --> 1.0082542169753292\n",
      "Social drinker --> 3.178133289913451\n",
      "Social smoker --> -1.4034448298656532\n",
      "Pet --> -0.013216647891405779\n",
      "Body mass index --> -11.340367030101078\n"
     ]
    }
   ],
   "source": [
    "data_without_NAN = data_without_NAN.drop(['Height','Weight'],axis=1)\n",
    "scaling_col = ['Transportation expense', 'Distance from Residence to Work','Service time',\n",
    "              'Work load Average/day ', 'Hit target','Body mass index']\n",
    "\n",
    "for i in scaling_col:\n",
    "    data_without_NAN[i]=(data_without_NAN[i]-min(data_without_NAN[i]))/(max(data_without_NAN[i])-min(data_without_NAN[i]))\n",
    "    #print(i,': Scaling Done')\n",
    "\n",
    "\n",
    "\n",
    "# Checking the outcome without preprocessing of the data set\n",
    "#imputing the training and testing data with test_split\n",
    "from sklearn.model_selection import train_test_split\n",
    "X = data_without_NAN.drop(['Absenteeism time in hours'], axis=1)\n",
    "Y = data_without_NAN['Absenteeism time in hours']\n",
    "x_train,x_test,y_train,y_test = train_test_split(X,Y, test_size=0.2)\n",
    "\n",
    "print('#####____MODEL_CHECK____#########')\n",
    "## KNN model\n",
    "from sklearn.neighbors import KNeighborsRegressor\n",
    "KNN_model = KNeighborsRegressor(n_neighbors=7).fit(x_train,y_train)\n",
    "y_KNN_predict = KNN_model.predict(x_test)\n",
    "#accuracy_KNN =  KNN_model.score(y_KNN_predict,y_test)\n",
    "##print (\"accuracy\", accuracy_KNN*100)\n",
    "print('KNN model')\n",
    "reg_acc(y_KNN_predict,y_test)\n",
    "print('###########')\n",
    "print('###########')\n",
    "# Decision Tree\n",
    "from sklearn import tree\n",
    "dec_model   = tree.DecisionTreeRegressor().fit(x_train,y_train)\n",
    "y_dec_model = dec_model.predict(x_test)\n",
    "#accuracy_c50 =  c50_model.score(x_test,y_test)\n",
    "print('Decision Tree')\n",
    "reg_acc(y_dec_model,y_test)\n",
    "print('###########')\n",
    "print('###########')\n",
    "#Random Forest\n",
    "from sklearn.ensemble import RandomForestRegressor\n",
    "RF_model = RandomForestRegressor(n_estimators=20).fit(x_train,y_train)\n",
    "y_rf_predict = RF_model.predict(x_test)\n",
    "print('Random Forest')\n",
    "reg_acc(y_rf_predict,y_test)\n",
    "print('###########')\n",
    "print('###########')\n",
    "\n",
    "#Linear Reg\n",
    "from sklearn.linear_model import LinearRegression\n",
    "lReg = LinearRegression().fit(x_train,y_train)\n",
    "l_predict = lReg.predict(x_test)\n",
    "reg_acc(l_predict,y_test)\n",
    "print('Linear Regression')\n",
    "print('Intercept :',lReg.intercept_)\n",
    "print('Coefficient')\n",
    "for i,coef in zip(data_without_NAN.columns,lReg.coef_):\n",
    "    print (i,\"-->\",coef)\n",
    "\n",
    "\n",
    "\n",
    "#Naye Base\n",
    "#from sklearn.naive_bayes import GaussianNB\n",
    "#NB_model = GaussianNB().fit(x_train, y_train)\n",
    "#y_nb_predict = NB_model.predict(x_test)\n",
    "#print('Naye Base')\n",
    "#reg_acc(y_nb_predict,y_test)"
   ]
  },
  {
   "cell_type": "markdown",
   "metadata": {},
   "source": [
    "## Pre-Processing the data"
   ]
  },
  {
   "cell_type": "markdown",
   "metadata": {},
   "source": [
    "### 1. Applying missing value analysis"
   ]
  },
  {
   "cell_type": "markdown",
   "metadata": {},
   "source": [
    "#### Checking which missing value analysis is good for the data"
   ]
  },
  {
   "cell_type": "code",
   "execution_count": 6,
   "metadata": {},
   "outputs": [
    {
     "data": {
      "text/html": [
       "<div>\n",
       "<style scoped>\n",
       "    .dataframe tbody tr th:only-of-type {\n",
       "        vertical-align: middle;\n",
       "    }\n",
       "\n",
       "    .dataframe tbody tr th {\n",
       "        vertical-align: top;\n",
       "    }\n",
       "\n",
       "    .dataframe thead th {\n",
       "        text-align: right;\n",
       "    }\n",
       "</style>\n",
       "<table border=\"1\" class=\"dataframe\">\n",
       "  <thead>\n",
       "    <tr style=\"text-align: right;\">\n",
       "      <th></th>\n",
       "      <th>Variables</th>\n",
       "      <th>Missing_Val</th>\n",
       "      <th>Missing_per</th>\n",
       "    </tr>\n",
       "  </thead>\n",
       "  <tbody>\n",
       "    <tr>\n",
       "      <th>0</th>\n",
       "      <td>Body mass index</td>\n",
       "      <td>31</td>\n",
       "      <td>4.19</td>\n",
       "    </tr>\n",
       "    <tr>\n",
       "      <th>1</th>\n",
       "      <td>Absenteeism time in hours</td>\n",
       "      <td>22</td>\n",
       "      <td>2.97</td>\n",
       "    </tr>\n",
       "    <tr>\n",
       "      <th>2</th>\n",
       "      <td>Height</td>\n",
       "      <td>14</td>\n",
       "      <td>1.89</td>\n",
       "    </tr>\n",
       "    <tr>\n",
       "      <th>3</th>\n",
       "      <td>Work load Average/day</td>\n",
       "      <td>10</td>\n",
       "      <td>1.35</td>\n",
       "    </tr>\n",
       "    <tr>\n",
       "      <th>4</th>\n",
       "      <td>Education</td>\n",
       "      <td>10</td>\n",
       "      <td>1.35</td>\n",
       "    </tr>\n",
       "    <tr>\n",
       "      <th>5</th>\n",
       "      <td>Transportation expense</td>\n",
       "      <td>7</td>\n",
       "      <td>0.95</td>\n",
       "    </tr>\n",
       "    <tr>\n",
       "      <th>6</th>\n",
       "      <td>Son</td>\n",
       "      <td>6</td>\n",
       "      <td>0.81</td>\n",
       "    </tr>\n",
       "    <tr>\n",
       "      <th>7</th>\n",
       "      <td>Disciplinary failure</td>\n",
       "      <td>6</td>\n",
       "      <td>0.81</td>\n",
       "    </tr>\n",
       "    <tr>\n",
       "      <th>8</th>\n",
       "      <td>Hit target</td>\n",
       "      <td>6</td>\n",
       "      <td>0.81</td>\n",
       "    </tr>\n",
       "    <tr>\n",
       "      <th>9</th>\n",
       "      <td>Social smoker</td>\n",
       "      <td>4</td>\n",
       "      <td>0.54</td>\n",
       "    </tr>\n",
       "    <tr>\n",
       "      <th>10</th>\n",
       "      <td>Age</td>\n",
       "      <td>3</td>\n",
       "      <td>0.41</td>\n",
       "    </tr>\n",
       "    <tr>\n",
       "      <th>11</th>\n",
       "      <td>Reason for absence</td>\n",
       "      <td>3</td>\n",
       "      <td>0.41</td>\n",
       "    </tr>\n",
       "    <tr>\n",
       "      <th>12</th>\n",
       "      <td>Service time</td>\n",
       "      <td>3</td>\n",
       "      <td>0.41</td>\n",
       "    </tr>\n",
       "    <tr>\n",
       "      <th>13</th>\n",
       "      <td>Distance from Residence to Work</td>\n",
       "      <td>3</td>\n",
       "      <td>0.41</td>\n",
       "    </tr>\n",
       "    <tr>\n",
       "      <th>14</th>\n",
       "      <td>Social drinker</td>\n",
       "      <td>3</td>\n",
       "      <td>0.41</td>\n",
       "    </tr>\n",
       "    <tr>\n",
       "      <th>15</th>\n",
       "      <td>Pet</td>\n",
       "      <td>2</td>\n",
       "      <td>0.27</td>\n",
       "    </tr>\n",
       "    <tr>\n",
       "      <th>16</th>\n",
       "      <td>Weight</td>\n",
       "      <td>1</td>\n",
       "      <td>0.14</td>\n",
       "    </tr>\n",
       "    <tr>\n",
       "      <th>17</th>\n",
       "      <td>Month of absence</td>\n",
       "      <td>1</td>\n",
       "      <td>0.14</td>\n",
       "    </tr>\n",
       "    <tr>\n",
       "      <th>18</th>\n",
       "      <td>Seasons</td>\n",
       "      <td>0</td>\n",
       "      <td>0.00</td>\n",
       "    </tr>\n",
       "    <tr>\n",
       "      <th>19</th>\n",
       "      <td>Day of the week</td>\n",
       "      <td>0</td>\n",
       "      <td>0.00</td>\n",
       "    </tr>\n",
       "    <tr>\n",
       "      <th>20</th>\n",
       "      <td>ID</td>\n",
       "      <td>0</td>\n",
       "      <td>0.00</td>\n",
       "    </tr>\n",
       "  </tbody>\n",
       "</table>\n",
       "</div>"
      ],
      "text/plain": [
       "                          Variables  Missing_Val  Missing_per\n",
       "0                   Body mass index           31         4.19\n",
       "1         Absenteeism time in hours           22         2.97\n",
       "2                            Height           14         1.89\n",
       "3            Work load Average/day            10         1.35\n",
       "4                         Education           10         1.35\n",
       "5            Transportation expense            7         0.95\n",
       "6                               Son            6         0.81\n",
       "7              Disciplinary failure            6         0.81\n",
       "8                        Hit target            6         0.81\n",
       "9                     Social smoker            4         0.54\n",
       "10                              Age            3         0.41\n",
       "11               Reason for absence            3         0.41\n",
       "12                     Service time            3         0.41\n",
       "13  Distance from Residence to Work            3         0.41\n",
       "14                   Social drinker            3         0.41\n",
       "15                              Pet            2         0.27\n",
       "16                           Weight            1         0.14\n",
       "17                 Month of absence            1         0.14\n",
       "18                          Seasons            0         0.00\n",
       "19                  Day of the week            0         0.00\n",
       "20                               ID            0         0.00"
      ]
     },
     "execution_count": 6,
     "metadata": {},
     "output_type": "execute_result"
    }
   ],
   "source": [
    "#Creating list of columns name on basis of NAN value\n",
    "col_with_nan, col_without_nan = [],[]\n",
    "for i in data.columns:\n",
    "    if data[i].isnull().sum() > 0:\n",
    "        col_with_nan.append(i)\n",
    "    else :col_without_nan.append(i)\n",
    "\n",
    "#Creating the table which columns has how much missing value\n",
    "missing_val = pd.DataFrame(data.isnull().sum())\n",
    "missing_val = missing_val.reset_index()\n",
    "missing_val = missing_val.rename(columns={'index': 'Variables', 0: 'Missing_Val'})\n",
    "missing_val['Missing_per'] = round((missing_val['Missing_Val']/len(data))*100,2)\n",
    "missing_val = missing_val.sort_values('Missing_per', ascending= False).reset_index(drop = True)\n",
    "missing_val"
   ]
  },
  {
   "cell_type": "code",
   "execution_count": 7,
   "metadata": {},
   "outputs": [
    {
     "name": "stderr",
     "output_type": "stream",
     "text": [
      "C:\\Users\\HP-Omen\\Anaconda3\\lib\\site-packages\\pandas\\core\\indexing.py:189: SettingWithCopyWarning: \n",
      "A value is trying to be set on a copy of a slice from a DataFrame\n",
      "\n",
      "See the caveats in the documentation: http://pandas.pydata.org/pandas-docs/stable/indexing.html#indexing-view-versus-copy\n",
      "  self._setitem_with_indexer(indexer, value)\n"
     ]
    }
   ],
   "source": [
    "#random Number\n",
    "index_NO_nan = data.dropna().index\n",
    "random_index = []\n",
    "for i in range(len(col_with_nan)):\n",
    "    random_index.append(random.choice(index_NO_nan))\n",
    "####################################################################################################################\n",
    "\n",
    "#replacing data with nan\n",
    "dum = data.copy()\n",
    "for i in range(len(col_with_nan)):\n",
    "    dum[col_with_nan[i]].loc[random_index[i]] = np.nan\n",
    "####################################################################################################################\n",
    "\n",
    "#created table\n",
    "actV,meanV,medianV = [],[],[]\n",
    "for i in range(len(col_with_nan)):\n",
    "    actV.append(data[col_with_nan[i]].loc[random_index[i]])\n",
    "        \n",
    "for i in range(len(col_with_nan)):\n",
    "    if col_with_nan[i] in Categorical_col:\n",
    "        meanV.append(np.nan)#Categorical data has no mean(Error occur )\n",
    "        medianV.append(np.nan)#Categorical data has no median\n",
    "    else:\n",
    "        meanV.append(data[col_with_nan[i]].mean())\n",
    "        medianV.append(data[col_with_nan[i]].mean())\n",
    "\n",
    "frame ={'Actual Value': actV,'Mean': meanV, 'Median': medianV}\n",
    "data_frame = pd.DataFrame(data = frame, index = col_with_nan, dtype =int)"
   ]
  },
  {
   "cell_type": "code",
   "execution_count": 8,
   "metadata": {},
   "outputs": [
    {
     "name": "stdout",
     "output_type": "stream",
     "text": [
      "Imputing row 1/740 with 0 missing, elapsed time: 0.231\n",
      "Imputing row 101/740 with 1 missing, elapsed time: 0.234\n",
      "Imputing row 201/740 with 0 missing, elapsed time: 0.238\n",
      "Imputing row 301/740 with 0 missing, elapsed time: 0.239\n",
      "Imputing row 401/740 with 0 missing, elapsed time: 0.241\n",
      "Imputing row 501/740 with 0 missing, elapsed time: 0.243\n",
      "Imputing row 601/740 with 0 missing, elapsed time: 0.245\n",
      "Imputing row 701/740 with 0 missing, elapsed time: 0.245\n",
      "##########################DONE##########################\n",
      "Imputing row 1/740 with 0 missing, elapsed time: 0.260\n",
      "Imputing row 101/740 with 1 missing, elapsed time: 0.264\n",
      "Imputing row 201/740 with 0 missing, elapsed time: 0.267\n",
      "Imputing row 301/740 with 0 missing, elapsed time: 0.269\n",
      "Imputing row 401/740 with 0 missing, elapsed time: 0.271\n",
      "Imputing row 501/740 with 0 missing, elapsed time: 0.272\n",
      "Imputing row 601/740 with 0 missing, elapsed time: 0.274\n",
      "Imputing row 701/740 with 0 missing, elapsed time: 0.274\n",
      "##########################DONE##########################\n",
      "Imputing row 1/740 with 0 missing, elapsed time: 0.241\n",
      "Imputing row 101/740 with 1 missing, elapsed time: 0.245\n",
      "Imputing row 201/740 with 0 missing, elapsed time: 0.248\n",
      "Imputing row 301/740 with 0 missing, elapsed time: 0.250\n",
      "Imputing row 401/740 with 0 missing, elapsed time: 0.253\n",
      "Imputing row 501/740 with 0 missing, elapsed time: 0.254\n",
      "Imputing row 601/740 with 0 missing, elapsed time: 0.256\n",
      "Imputing row 701/740 with 0 missing, elapsed time: 0.258\n",
      "##########################DONE##########################\n"
     ]
    }
   ],
   "source": [
    "###########################\"KNN with 3\"###########################\n",
    "data_KNN = KNN(k=3).complete(dum)\n",
    "data_KNN = pd.DataFrame(data = data_KNN, columns=data.columns)\n",
    "knn_array = []\n",
    "for i in range(len(col_with_nan)):\n",
    "    knn_array.append(int(data_KNN[col_with_nan[i]].loc[random_index[i]]))\n",
    "    \n",
    "data_frame['KNN_3'] = knn_array\n",
    "print('##########################DONE##########################')\n",
    "###########################\"KNN with 5\"###########################\n",
    "data_KNN5 = KNN(k=5).complete(dum)\n",
    "data_KNN5 = pd.DataFrame(data = data_KNN, columns=data.columns)\n",
    "knn_array = []\n",
    "for i in range(len(col_with_nan)):\n",
    "    knn_array.append(int(data_KNN5[col_with_nan[i]].loc[random_index[i]]))\n",
    "    \n",
    "data_frame['KNN_5'] = knn_array\n",
    "print('##########################DONE##########################')\n",
    "###########################\"KNN with 7\"###########################\n",
    "data_KNN7 = KNN(k=7).complete(dum)\n",
    "data_KNN7 = pd.DataFrame(data = data_KNN, columns=data.columns)\n",
    "knn_array = []\n",
    "for i in range(len(col_with_nan)):\n",
    "    knn_array.append(int(data_KNN7[col_with_nan[i]].loc[random_index[i]]))\n",
    "    \n",
    "data_frame['KNN_7'] = knn_array\n",
    "print('##########################DONE##########################')\n"
   ]
  },
  {
   "cell_type": "code",
   "execution_count": 9,
   "metadata": {},
   "outputs": [
    {
     "name": "stdout",
     "output_type": "stream",
     "text": [
      "SAMPLE TESTED ARRAY IS [469, 203, 365, 649, 126, 649, 163, 409, 256, 428, 245, 583, 126, 713, 337, 182, 507, 537]\n"
     ]
    },
    {
     "data": {
      "text/html": [
       "<div>\n",
       "<style scoped>\n",
       "    .dataframe tbody tr th:only-of-type {\n",
       "        vertical-align: middle;\n",
       "    }\n",
       "\n",
       "    .dataframe tbody tr th {\n",
       "        vertical-align: top;\n",
       "    }\n",
       "\n",
       "    .dataframe thead th {\n",
       "        text-align: right;\n",
       "    }\n",
       "</style>\n",
       "<table border=\"1\" class=\"dataframe\">\n",
       "  <thead>\n",
       "    <tr style=\"text-align: right;\">\n",
       "      <th></th>\n",
       "      <th>Actual Value</th>\n",
       "      <th>Mean</th>\n",
       "      <th>Median</th>\n",
       "      <th>KNN_3</th>\n",
       "      <th>KNN_5</th>\n",
       "      <th>KNN_7</th>\n",
       "    </tr>\n",
       "  </thead>\n",
       "  <tbody>\n",
       "    <tr>\n",
       "      <th>Reason for absence</th>\n",
       "      <td>23</td>\n",
       "      <td>NaN</td>\n",
       "      <td>NaN</td>\n",
       "      <td>26</td>\n",
       "      <td>26</td>\n",
       "      <td>26</td>\n",
       "    </tr>\n",
       "    <tr>\n",
       "      <th>Month of absence</th>\n",
       "      <td>4</td>\n",
       "      <td>NaN</td>\n",
       "      <td>NaN</td>\n",
       "      <td>4</td>\n",
       "      <td>4</td>\n",
       "      <td>4</td>\n",
       "    </tr>\n",
       "    <tr>\n",
       "      <th>Transportation expense</th>\n",
       "      <td>235</td>\n",
       "      <td>221.035</td>\n",
       "      <td>221.035</td>\n",
       "      <td>270</td>\n",
       "      <td>270</td>\n",
       "      <td>270</td>\n",
       "    </tr>\n",
       "    <tr>\n",
       "      <th>Distance from Residence to Work</th>\n",
       "      <td>51</td>\n",
       "      <td>29.6676</td>\n",
       "      <td>29.6676</td>\n",
       "      <td>51</td>\n",
       "      <td>51</td>\n",
       "      <td>51</td>\n",
       "    </tr>\n",
       "    <tr>\n",
       "      <th>Service time</th>\n",
       "      <td>10</td>\n",
       "      <td>12.5658</td>\n",
       "      <td>12.5658</td>\n",
       "      <td>10</td>\n",
       "      <td>10</td>\n",
       "      <td>10</td>\n",
       "    </tr>\n",
       "    <tr>\n",
       "      <th>Age</th>\n",
       "      <td>38</td>\n",
       "      <td>36.4491</td>\n",
       "      <td>36.4491</td>\n",
       "      <td>38</td>\n",
       "      <td>38</td>\n",
       "      <td>38</td>\n",
       "    </tr>\n",
       "    <tr>\n",
       "      <th>Work load Average/day</th>\n",
       "      <td>343253</td>\n",
       "      <td>271189</td>\n",
       "      <td>271189</td>\n",
       "      <td>261338</td>\n",
       "      <td>261338</td>\n",
       "      <td>261338</td>\n",
       "    </tr>\n",
       "    <tr>\n",
       "      <th>Hit target</th>\n",
       "      <td>98</td>\n",
       "      <td>94.5872</td>\n",
       "      <td>94.5872</td>\n",
       "      <td>93</td>\n",
       "      <td>93</td>\n",
       "      <td>93</td>\n",
       "    </tr>\n",
       "    <tr>\n",
       "      <th>Disciplinary failure</th>\n",
       "      <td>0</td>\n",
       "      <td>NaN</td>\n",
       "      <td>NaN</td>\n",
       "      <td>0</td>\n",
       "      <td>0</td>\n",
       "      <td>0</td>\n",
       "    </tr>\n",
       "    <tr>\n",
       "      <th>Education</th>\n",
       "      <td>3</td>\n",
       "      <td>NaN</td>\n",
       "      <td>NaN</td>\n",
       "      <td>2</td>\n",
       "      <td>2</td>\n",
       "      <td>2</td>\n",
       "    </tr>\n",
       "    <tr>\n",
       "      <th>Son</th>\n",
       "      <td>0</td>\n",
       "      <td>1.01771</td>\n",
       "      <td>1.01771</td>\n",
       "      <td>1</td>\n",
       "      <td>1</td>\n",
       "      <td>1</td>\n",
       "    </tr>\n",
       "    <tr>\n",
       "      <th>Social drinker</th>\n",
       "      <td>1</td>\n",
       "      <td>NaN</td>\n",
       "      <td>NaN</td>\n",
       "      <td>0</td>\n",
       "      <td>0</td>\n",
       "      <td>0</td>\n",
       "    </tr>\n",
       "    <tr>\n",
       "      <th>Social smoker</th>\n",
       "      <td>0</td>\n",
       "      <td>NaN</td>\n",
       "      <td>NaN</td>\n",
       "      <td>0</td>\n",
       "      <td>0</td>\n",
       "      <td>0</td>\n",
       "    </tr>\n",
       "    <tr>\n",
       "      <th>Pet</th>\n",
       "      <td>0</td>\n",
       "      <td>0.746612</td>\n",
       "      <td>0.746612</td>\n",
       "      <td>0</td>\n",
       "      <td>0</td>\n",
       "      <td>0</td>\n",
       "    </tr>\n",
       "    <tr>\n",
       "      <th>Weight</th>\n",
       "      <td>68</td>\n",
       "      <td>79.0636</td>\n",
       "      <td>79.0636</td>\n",
       "      <td>70</td>\n",
       "      <td>70</td>\n",
       "      <td>70</td>\n",
       "    </tr>\n",
       "    <tr>\n",
       "      <th>Height</th>\n",
       "      <td>165</td>\n",
       "      <td>172.153</td>\n",
       "      <td>172.153</td>\n",
       "      <td>165</td>\n",
       "      <td>165</td>\n",
       "      <td>165</td>\n",
       "    </tr>\n",
       "    <tr>\n",
       "      <th>Body mass index</th>\n",
       "      <td>36</td>\n",
       "      <td>26.6841</td>\n",
       "      <td>26.6841</td>\n",
       "      <td>35</td>\n",
       "      <td>35</td>\n",
       "      <td>35</td>\n",
       "    </tr>\n",
       "    <tr>\n",
       "      <th>Absenteeism time in hours</th>\n",
       "      <td>8</td>\n",
       "      <td>6.97772</td>\n",
       "      <td>6.97772</td>\n",
       "      <td>7</td>\n",
       "      <td>7</td>\n",
       "      <td>7</td>\n",
       "    </tr>\n",
       "  </tbody>\n",
       "</table>\n",
       "</div>"
      ],
      "text/plain": [
       "                                 Actual Value      Mean    Median   KNN_3  \\\n",
       "Reason for absence                         23       NaN       NaN      26   \n",
       "Month of absence                            4       NaN       NaN       4   \n",
       "Transportation expense                    235   221.035   221.035     270   \n",
       "Distance from Residence to Work            51   29.6676   29.6676      51   \n",
       "Service time                               10   12.5658   12.5658      10   \n",
       "Age                                        38   36.4491   36.4491      38   \n",
       "Work load Average/day                  343253    271189    271189  261338   \n",
       "Hit target                                 98   94.5872   94.5872      93   \n",
       "Disciplinary failure                        0       NaN       NaN       0   \n",
       "Education                                   3       NaN       NaN       2   \n",
       "Son                                         0   1.01771   1.01771       1   \n",
       "Social drinker                              1       NaN       NaN       0   \n",
       "Social smoker                               0       NaN       NaN       0   \n",
       "Pet                                         0  0.746612  0.746612       0   \n",
       "Weight                                     68   79.0636   79.0636      70   \n",
       "Height                                    165   172.153   172.153     165   \n",
       "Body mass index                            36   26.6841   26.6841      35   \n",
       "Absenteeism time in hours                   8   6.97772   6.97772       7   \n",
       "\n",
       "                                  KNN_5   KNN_7  \n",
       "Reason for absence                   26      26  \n",
       "Month of absence                      4       4  \n",
       "Transportation expense              270     270  \n",
       "Distance from Residence to Work      51      51  \n",
       "Service time                         10      10  \n",
       "Age                                  38      38  \n",
       "Work load Average/day            261338  261338  \n",
       "Hit target                           93      93  \n",
       "Disciplinary failure                  0       0  \n",
       "Education                             2       2  \n",
       "Son                                   1       1  \n",
       "Social drinker                        0       0  \n",
       "Social smoker                         0       0  \n",
       "Pet                                   0       0  \n",
       "Weight                               70      70  \n",
       "Height                              165     165  \n",
       "Body mass index                      35      35  \n",
       "Absenteeism time in hours             7       7  "
      ]
     },
     "execution_count": 9,
     "metadata": {},
     "output_type": "execute_result"
    }
   ],
   "source": [
    "print(\"SAMPLE TESTED ARRAY IS\", random_index)\n",
    "data_frame"
   ]
  },
  {
   "cell_type": "markdown",
   "metadata": {},
   "source": [
    "#### KNN turn's out to produce good output relevent to the other missing value analysis"
   ]
  },
  {
   "cell_type": "code",
   "execution_count": 10,
   "metadata": {},
   "outputs": [
    {
     "name": "stdout",
     "output_type": "stream",
     "text": [
      "Imputing row 1/740 with 0 missing, elapsed time: 0.235\n",
      "Imputing row 101/740 with 1 missing, elapsed time: 0.241\n",
      "Imputing row 201/740 with 0 missing, elapsed time: 0.245\n",
      "Imputing row 301/740 with 0 missing, elapsed time: 0.247\n",
      "Imputing row 401/740 with 0 missing, elapsed time: 0.249\n",
      "Imputing row 501/740 with 0 missing, elapsed time: 0.250\n",
      "Imputing row 601/740 with 0 missing, elapsed time: 0.252\n",
      "Imputing row 701/740 with 0 missing, elapsed time: 0.253\n"
     ]
    }
   ],
   "source": [
    "# Applying the KNN imputation over the data (k = 3)\n",
    "process_data = KNN(k=3).complete(data)\n",
    "process_data = pd.DataFrame(data = process_data, columns=data.columns)\n",
    "##########################################################################################\n",
    "# So, now on we will proccess further in KNN_pre_data\n",
    "##########################################################################################\n",
    "# converting all the non categorical value in integer\n",
    "\n",
    "for i in process_data.columns:\n",
    "    process_data[i]= process_data[i].astype('int')\n",
    "\n",
    "for i in Categorical_col:\n",
    "    process_data[i] = pd.Categorical(process_data[i])"
   ]
  },
  {
   "cell_type": "markdown",
   "metadata": {},
   "source": [
    "### 3. Feature Selection"
   ]
  },
  {
   "cell_type": "code",
   "execution_count": 11,
   "metadata": {},
   "outputs": [
    {
     "data": {
      "image/png": "[encoded data removed]",
      "text/plain": [
       "<Figure size 1080x720 with 2 Axes>"
      ]
     },
     "metadata": {
      "needs_background": "light"
     },
     "output_type": "display_data"
    }
   ],
   "source": [
    "#Generating the correlation heatmap\n",
    "plt.figure(figsize = (15, 10))\n",
    "heat = sns.heatmap(process_data.drop(['ID'],axis=1).corr(), annot = True)\n",
    "heat.figure.savefig('Heatmap.png')"
   ]
  },
  {
   "cell_type": "code",
   "execution_count": 12,
   "metadata": {},
   "outputs": [],
   "source": [
    "# As per the heat map Weight is highly correlated with Body mass index. Moreover, weight divides with square of an height\n",
    "#  is equal body mass index so weight and height column will be drop from the data set\n",
    "process_data = process_data.drop(['Height','Weight'],axis=1)"
   ]
  },
  {
   "cell_type": "markdown",
   "metadata": {},
   "source": [
    "### 4. Normalisation and Standardization"
   ]
  },
  {
   "cell_type": "code",
   "execution_count": 13,
   "metadata": {},
   "outputs": [],
   "source": [
    "# All the numerical data will be scaled\n",
    "scaling_col = ['Transportation expense', 'Distance from Residence to Work','Service time',\n",
    "              'Work load Average/day ', 'Hit target','Body mass index']"
   ]
  },
  {
   "cell_type": "code",
   "execution_count": 14,
   "metadata": {},
   "outputs": [
    {
     "name": "stdout",
     "output_type": "stream",
     "text": [
      "Transportation expense : Scaling Done\n",
      "Distance from Residence to Work : Scaling Done\n",
      "Service time : Scaling Done\n",
      "Work load Average/day  : Scaling Done\n",
      "Hit target : Scaling Done\n",
      "Body mass index : Scaling Done\n"
     ]
    }
   ],
   "source": [
    "for i in scaling_col:\n",
    "    process_data[i]=(process_data[i]-min(process_data[i]))/(max(process_data[i])-min(process_data[i]))\n",
    "    print(i,': Scaling Done')"
   ]
  },
  {
   "cell_type": "code",
   "execution_count": 15,
   "metadata": {},
   "outputs": [],
   "source": [
    "# Saving of the processed data set\n",
    "process_data.to_excel('Process data_new.xls', index = None)"
   ]
  },
  {
   "cell_type": "code",
   "execution_count": 16,
   "metadata": {},
   "outputs": [],
   "source": [
    "# Spliting the data set in train-test\n",
    "from sklearn.model_selection import train_test_split\n",
    "Pro_X = process_data.drop(['Absenteeism time in hours'], axis=1)\n",
    "Pro_Y = process_data['Absenteeism time in hours']\n",
    "X_TRAIN,X_TEST,Y_TRAIN,Y_TEST = train_test_split(Pro_X,Pro_Y, test_size=0.2)"
   ]
  },
  {
   "cell_type": "code",
   "execution_count": 17,
   "metadata": {},
   "outputs": [
    {
     "name": "stdout",
     "output_type": "stream",
     "text": [
      "MSE of data:  292.2972972972973\n",
      "***RMSE of data:  17.09670428174089 ***\n",
      "Other Parameters:\n",
      "R² :  -0.15988070175311475\n",
      "MAE: 7.360360360360361\n"
     ]
    }
   ],
   "source": [
    "# Applying KNN Machine learnig algorithm\n",
    "from sklearn.neighbors import KNeighborsRegressor\n",
    "Pro_KNN_model = KNeighborsRegressor(n_neighbors=3).fit(X_TRAIN,Y_TRAIN)\n",
    "Final_KNN_predict = Pro_KNN_model.predict(X_TEST)\n",
    "reg_acc(Y_TEST,Final_KNN_predict)"
   ]
  },
  {
   "cell_type": "code",
   "execution_count": 18,
   "metadata": {},
   "outputs": [],
   "source": [
    "#Saving the train-test data into excel sheet\n",
    "#write = pd.ExcelWriter('Train_Test_data.xlsx', engine='xlsxwriter')\n",
    "#X_TRAIN.to_excel(write,sheet_name='TrainX',index=False)\n",
    "#Y_TRAIN.to_excel(write,sheet_name='TrainY',index=False)\n",
    "#X_TEST.to_excel(write,sheet_name='TestX',index=False)\n",
    "#Y_TEST.to_excel(write,sheet_name='TestY',index=False)\n",
    "#write.save()"
   ]
  },
  {
   "cell_type": "markdown",
   "metadata": {},
   "source": [
    "## Other algorithm"
   ]
  },
  {
   "cell_type": "code",
   "execution_count": 19,
   "metadata": {},
   "outputs": [
    {
     "name": "stdout",
     "output_type": "stream",
     "text": [
      "MSE of data:  234.78154897008716\n",
      "***RMSE of data:  15.322582973183312 ***\n",
      "Other Parameters:\n",
      "R² :  0.06835064745353725\n",
      "MAE: 6.44050414909134\n",
      "Intercept : 10.382840681365666\n",
      "Coefficient\n",
      "ID --> -0.1785224414710312\n",
      "Reason for absence --> -0.38356380969241666\n",
      "Month of absence --> 0.19603574229512963\n",
      "Day of the week --> -0.4067291076554663\n",
      "Seasons --> -0.10238094809366391\n",
      "Transportation expense --> -0.7100339762852044\n",
      "Distance from Residence to Work --> -5.5165700764792\n",
      "Service time --> -10.002115352992854\n",
      "Age --> 0.45206587835384143\n",
      "Work load Average/day  --> 1.965275701934068\n",
      "Hit target --> 4.654967983778953\n",
      "Disciplinary failure --> -10.86668326986222\n",
      "Education --> -2.0910419563864324\n",
      "Son --> 0.3700326927068894\n",
      "Social drinker --> 2.0414851493035338\n",
      "Social smoker --> 1.1644489819486064\n",
      "Pet --> -0.493629161147407\n",
      "Body mass index --> -9.09113596801323\n"
     ]
    }
   ],
   "source": [
    "#Applying linear regression machine learning algorithm\n",
    "from sklearn.linear_model import LinearRegression\n",
    "linReg = LinearRegression().fit(X_TRAIN,Y_TRAIN)\n",
    "linear_predict = linReg.predict(X_TEST)\n",
    "reg_acc(Y_TEST,linear_predict)\n",
    "print('Intercept :',linReg.intercept_)\n",
    "print('Coefficient')\n",
    "for i,coef in zip(process_data.columns,linReg.coef_):\n",
    "    print (i,\"-->\",coef)"
   ]
  },
  {
   "cell_type": "code",
   "execution_count": 20,
   "metadata": {},
   "outputs": [
    {
     "name": "stdout",
     "output_type": "stream",
     "text": [
      "Decision Tree ML\n",
      "MSE of data:  345.61054804804803\n",
      "***RMSE of data:  18.59060375695335 ***\n",
      "Other Parameters:\n",
      "R² :  -1.780393438617672\n",
      "MAE: 7.15427927927928\n",
      "######END########\n",
      "Random Forest ML\n",
      "MSE of data:  260.25189356272597\n",
      "***RMSE of data:  16.13232449347353 ***\n",
      "Other Parameters:\n",
      "R² :  -4.7621185023122194\n",
      "MAE: 6.671\n",
      "######END########\n",
      "Naive Bayes\n",
      "MSE of data:  889.8108108108108\n",
      "***RMSE of data:  29.829696793812886 ***\n",
      "Other Parameters:\n",
      "R² :  -0.6783951750053456\n",
      "MAE: 18.93243243243243\n"
     ]
    }
   ],
   "source": [
    "#Applying all the different machine learning algorithm to check which produce the best result\n",
    "#################################################################\n",
    "from sklearn import tree\n",
    "Deci_tree_pre = tree.DecisionTreeRegressor().fit(X_TRAIN,Y_TRAIN).predict(X_TEST)\n",
    "print('Decision Tree ML')\n",
    "reg_acc(Deci_tree_pre,Y_TEST)\n",
    "print('######END########')\n",
    "#################################################################\n",
    "from sklearn.ensemble import RandomForestRegressor\n",
    "Ran_for_pre = RandomForestRegressor(n_estimators=50).fit(X_TRAIN,Y_TRAIN).predict(X_TEST)\n",
    "print('Random Forest ML')\n",
    "reg_acc(Ran_for_pre,Y_TEST)\n",
    "print('######END########')\n",
    "#################################################################\n",
    "from sklearn.naive_bayes import GaussianNB\n",
    "print('Naive Bayes')\n",
    "NB_pre = GaussianNB().fit(X_TRAIN,Y_TRAIN).predict(X_TEST)\n",
    "reg_acc(NB_pre,Y_TEST)"
   ]
  },
  {
   "cell_type": "markdown",
   "metadata": {},
   "source": [
    "## KNN Map"
   ]
  },
  {
   "cell_type": "markdown",
   "metadata": {},
   "source": [
    "#### Measuring the number of 'k' suited with this Data set"
   ]
  },
  {
   "cell_type": "code",
   "execution_count": 21,
   "metadata": {},
   "outputs": [],
   "source": [
    "list_mae,list_mse,list_r2,num=[],[],[],[]\n",
    "for i in range(50):\n",
    "    if i%2!=0:\n",
    "        dummy_KNN = KNeighborsRegressor(n_neighbors=i).fit(X_TRAIN,Y_TRAIN).predict(X_TEST)\n",
    "        num.append(i)\n",
    "        list_mae.append(mean_absolute_error(dummy_KNN,Y_TEST))\n",
    "        list_mse.append(mean_squared_error(dummy_KNN,Y_TEST))\n",
    "        list_r2.append(r2_score(dummy_KNN,Y_TEST))"
   ]
  },
  {
   "cell_type": "code",
   "execution_count": 22,
   "metadata": {},
   "outputs": [
    {
     "name": "stdout",
     "output_type": "stream",
     "text": [
      "*********** M A E ***********\n",
      "Kth Value: 27\n",
      "Lowest MAE Value: 6.001001001001001\n"
     ]
    },
    {
     "data": {
      "image/png": "[encoded data removed]",
      "text/plain": [
       "<Figure size 432x288 with 1 Axes>"
      ]
     },
     "metadata": {
      "needs_background": "light"
     },
     "output_type": "display_data"
    }
   ],
   "source": [
    "sns.lineplot(x=num,y=list_mae)\n",
    "print('*********** M A E ***********')\n",
    "print('Kth Value:',num[list_mae.index(min(list_mae))])\n",
    "print('Lowest MAE Value:',min(list_mae))"
   ]
  },
  {
   "cell_type": "code",
   "execution_count": 23,
   "metadata": {},
   "outputs": [
    {
     "name": "stdout",
     "output_type": "stream",
     "text": [
      "*********** M S E ***********\n",
      "Kth Value: 37\n",
      "Lowest MSE Value: 231.97302232839118\n"
     ]
    },
    {
     "data": {
      "image/png": "[encoded data removed]",
      "text/plain": [
       "<Figure size 432x288 with 1 Axes>"
      ]
     },
     "metadata": {
      "needs_background": "light"
     },
     "output_type": "display_data"
    }
   ],
   "source": [
    "sns.lineplot(x=num,y=list_mse)\n",
    "print('*********** M S E ***********')\n",
    "print('Kth Value:',num[list_mse.index(min(list_mse))])\n",
    "print('Lowest MSE Value:',min(list_mse))"
   ]
  },
  {
   "cell_type": "code",
   "execution_count": 24,
   "metadata": {},
   "outputs": [
    {
     "name": "stdout",
     "output_type": "stream",
     "text": [
      "*********** R2 Value ***********\n",
      "Kth Value 3\n",
      "Lowest R2 Value: -3.325567767965528\n"
     ]
    },
    {
     "data": {
      "image/png": "[encoded data removed]",
      "text/plain": [
       "<Figure size 432x288 with 1 Axes>"
      ]
     },
     "metadata": {
      "needs_background": "light"
     },
     "output_type": "display_data"
    }
   ],
   "source": [
    "sns.lineplot(x=num,y=list_r2)\n",
    "print('*********** R2 Value ***********')\n",
    "print('Kth Value',num[list_r2.index(max(list_r2))])\n",
    "print('Lowest R2 Value:',max(list_r2))"
   ]
  }
 ],
 "metadata": {
  "kernelspec": {
   "display_name": "Python 3",
   "language": "python",
   "name": "python3"
  },
  "language_info": {
   "codemirror_mode": {
    "name": "ipython",
    "version": 3
   },
   "file_extension": ".py",
   "mimetype": "text/x-python",
   "name": "python",
   "nbconvert_exporter": "python",
   "pygments_lexer": "ipython3",
   "version": "3.6.7"
  }
 },
 "nbformat": 4,
 "nbformat_minor": 2
}
